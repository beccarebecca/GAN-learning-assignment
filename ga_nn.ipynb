{
  "nbformat": 4,
  "nbformat_minor": 0,
  "metadata": {
    "colab": {
      "name": "ga nn",
      "provenance": [],
      "collapsed_sections": [],
      "include_colab_link": true
    },
    "kernelspec": {
      "name": "python3",
      "display_name": "Python 3"
    },
    "accelerator": "GPU"
  },
  "cells": [
    {
      "cell_type": "markdown",
      "metadata": {
        "id": "view-in-github",
        "colab_type": "text"
      },
      "source": [
        "<a href=\"https://colab.research.google.com/github/beccarebecca/GAN-learning-assignment/blob/master/ga_nn.ipynb\" target=\"_parent\"><img src=\"https://colab.research.google.com/assets/colab-badge.svg\" alt=\"Open In Colab\"/></a>"
      ]
    },
    {
      "cell_type": "code",
      "metadata": {
        "id": "8P66lM2o0w5q",
        "colab_type": "code",
        "colab": {}
      },
      "source": [
        "\n",
        "!pip install tensorflow==2.0.0-alpha0\n",
        "import glob\n",
        "import imageio\n",
        "import matplotlib.pyplot as plt\n",
        "import numpy as np\n",
        "import os \n",
        "from IPython import display\n",
        "import PIL\n",
        "import tensorflow as tf\n",
        "from tensorflow.keras import layers\n",
        "import time\n",
        "from __future__ import absolute_import,division,print_function, unicode_literals\n",
        "from keras.optimizers import Adam\n",
        "\n",
        "from keras import initializers\n",
        "!pip install -q imageio\n",
        "from keras.layers import LeakyReLU\n",
        "\n",
        "print(tf.__version__)\n"
      ],
      "execution_count": 0,
      "outputs": []
    },
    {
      "cell_type": "code",
      "metadata": {
        "id": "5Vs2HOqq10Kt",
        "colab_type": "code",
        "colab": {}
      },
      "source": [
        "\n",
        "bufferS = 60000\n",
        "batchS = 256\n",
        "\n",
        "from keras.datasets import fashion_mnist\n",
        "(train_img, train_labes), (_, _) = tf.keras.datasets.fashion_mnist.load_data()"
      ],
      "execution_count": 0,
      "outputs": []
    },
    {
      "cell_type": "code",
      "metadata": {
        "id": "M2_AcBSV4X5k",
        "colab_type": "code",
        "colab": {}
      },
      "source": [
        "train_img = train_img.reshape(train_img.shape[0], 28, 28, 1).astype('float32')\n",
        "train_img = (train_img - 127.5)/ 127.5"
      ],
      "execution_count": 0,
      "outputs": []
    },
    {
      "cell_type": "code",
      "metadata": {
        "id": "t-tkCEGB4YIq",
        "colab_type": "code",
        "colab": {}
      },
      "source": [
        "\n",
        "# shuffle the data\n",
        "Shuffle_train_set = tf.data.Dataset.from_tensor_slices(train_img).batch(bufferS)\n",
        "\n",
        "init = initializers.RandomNormal(stddev = 0.02)\n"
      ],
      "execution_count": 0,
      "outputs": []
    },
    {
      "cell_type": "code",
      "metadata": {
        "id": "YCRkNBFI4YW7",
        "colab_type": "code",
        "colab": {}
      },
      "source": [
        "# making a generator\n",
        "# up sampling noise to make the right size from random pixels.\n",
        "\n",
        "def generatorModelMaker():\n",
        "  mod = tf.keras.Sequential()\n",
        "  \n",
        "  mod.add(layers.Dense(7*7*256, use_bias = False, input_shape = (100,)))\n",
        "  mod.add(layers.BatchNormalization())\n",
        "  \n",
        "  mod.add(layers.LeakyReLU(alpha=0.3))\n",
        "  mod.add(layers.Reshape((7,7,256)))\n",
        "  assert mod.output_shape ==(None,7, 7, 256)\n",
        "  \n",
        "  mod.add(layers.Conv2DTranspose(128, (5, 5,) , strides = (1, 1), padding = 'same', use_bias =  False))\n",
        "  assert mod.output_shape ==(None,7, 7, 128)\n",
        "  mod.add(layers.BatchNormalization())\n",
        "  \n",
        "\n",
        "  \n",
        "  mod.add(layers.LeakyReLU(alpha=0.3)) \n",
        "  \n",
        "  mod.add(layers.Conv2DTranspose(64, (5, 5,) , strides = (2, 2), padding = 'same', use_bias =  False))\n",
        "  assert mod.output_shape ==(None,14, 14, 64)\n",
        "  mod.add(layers.BatchNormalization())\n",
        "  \n",
        "  \n",
        "  \n",
        "  mod.add(layers.LeakyReLU(alpha=0.3))\n",
        "  \n",
        "  mod.add(layers.Conv2DTranspose(1,(5,5), strides = (2,2), padding = 'same' , use_bias = False, activation='tanh'))\n",
        "  assert mod.output_shape ==(None,28, 28, 1)\n",
        "  \n",
        "  return mod\n",
        "    \n",
        "    "
      ],
      "execution_count": 0,
      "outputs": []
    },
    {
      "cell_type": "code",
      "metadata": {
        "id": "VabX3DjJ4Yjg",
        "colab_type": "code",
        "colab": {}
      },
      "source": [
        "generate = generatorModelMaker()\n",
        "z = np.random.normal(loc= 0 , scale = 1, size = (batchS, 100))\n",
        "\n",
        "GenImg = generate(z, training = False)\n",
        "#plt.imshow(GenImg[0,:,:, 0], cmap = 'gray')\n",
        "\n"
      ],
      "execution_count": 0,
      "outputs": []
    },
    {
      "cell_type": "code",
      "metadata": {
        "id": "zdFln22vdWLM",
        "colab_type": "code",
        "colab": {}
      },
      "source": [
        "def detective_model():\n",
        "  detective = tf.keras.Sequential()\n",
        "  detective.add(layers.Conv2D(64, (5,5), strides = (2, 2), padding = 'same', input_shape=[28,28,1]))\n",
        "  detective.add(layers.LeakyReLU(alpha=0.3))\n",
        "  detective.add(layers.Dropout(0.3))\n",
        "  \n",
        "  detective.add(layers.Conv2D(128, (5,5), strides = (2, 2), padding = 'same'))\n",
        "  detective.add(layers.LeakyReLU(alpha=0.3))\n",
        "  detective.add(layers.Dropout(0.3))\n",
        "  detective.add(layers.Flatten())\n",
        "  detective.add(layers.Dense(1))\n",
        "  \n",
        "  return detective\n",
        "  \n",
        "    "
      ],
      "execution_count": 0,
      "outputs": []
    },
    {
      "cell_type": "code",
      "metadata": {
        "id": "ZrVS2ul8gXqt",
        "colab_type": "code",
        "colab": {}
      },
      "source": [
        "verdict = detective_model()\n",
        "opinion = verdict(GenImg)\n",
        "print(opinion)"
      ],
      "execution_count": 0,
      "outputs": []
    },
    {
      "cell_type": "code",
      "metadata": {
        "id": "87bELrtXgYYD",
        "colab_type": "code",
        "colab": {}
      },
      "source": [
        "crossEntropy = tf.keras.losses.BinaryCrossentropy(from_logits = True)\n",
        "                                                 "
      ],
      "execution_count": 0,
      "outputs": []
    },
    {
      "cell_type": "code",
      "metadata": {
        "id": "QxZR-iLfgZ71",
        "colab_type": "code",
        "colab": {}
      },
      "source": [
        "def DiscrLoss(rOutput, wOutput):\n",
        "  correctLoss = crossEntropy(tf.ones_like(rOutput),rOutput)\n",
        "  sneakyLoss = crossEntropy(tf.zeros_like(wOutput),wOutput)\n",
        "  total = correctLoss + sneakyLoss\n",
        "  return total"
      ],
      "execution_count": 0,
      "outputs": []
    },
    {
      "cell_type": "code",
      "metadata": {
        "id": "7o0XFTAZngQ2",
        "colab_type": "code",
        "colab": {}
      },
      "source": [
        "def genLoss(wOutput):\n",
        "  return crossEntropy(tf.ones_like(wOutput),wOutput)\n",
        "\n",
        "\n",
        "\n",
        "genOptimizer = tf.keras.optimizers.Adam(1e-5)\n",
        "detectiveOptimizer = tf.keras.optimizers.Adam(1e-5)"
      ],
      "execution_count": 0,
      "outputs": []
    },
    {
      "cell_type": "code",
      "metadata": {
        "id": "ZUvJysXfngU5",
        "colab_type": "code",
        "colab": {}
      },
      "source": [
        "checkDir = \"./checks\"\n",
        "checkMerge = os.path.join(checkDir, \"pt\")\n",
        "pointS = tf.train.Checkpoint(genOptimizer = genOptimizer,detectiveOptimizer = detectiveOptimizer, generate = generate,verdict = verdict )"
      ],
      "execution_count": 0,
      "outputs": []
    },
    {
      "cell_type": "code",
      "metadata": {
        "id": "BavRlL11ngba",
        "colab_type": "code",
        "colab": {}
      },
      "source": [
        "EPOCHS = 50\n",
        "genDim = 100\n",
        "numberOfGenExamples = 16\n",
        "seed = tf.random.normal([numberOfGenExamples, genDim])"
      ],
      "execution_count": 0,
      "outputs": []
    },
    {
      "cell_type": "code",
      "metadata": {
        "id": "aO-a0Vu-ngYl",
        "colab_type": "code",
        "colab": {}
      },
      "source": [
        "@tf.function\n",
        "def stepS(imgs):\n",
        "  noise = tf.random.normal([batchS, genDim])\n",
        "  with tf.GradientTape() as genTape, tf.GradientTape() as detTape:\n",
        "    genImgs = generate(noise, training = True)\n",
        "    correctOutput = verdict(imgs, training= True)\n",
        "    sneakyOutput = verdict(genImgs, training = True)\n",
        "    GenLoss = genLoss(sneakyOutput)\n",
        "    DetLoss = DiscrLoss(correctOutput,sneakyOutput)\n",
        "  derivitivesGen = genTape.gradient(GenLoss, generate.trainable_variables)\n",
        "  derivitivesdet = detTape.gradient(DetLoss, verdict.trainable_variables)\n",
        "  genOptimizer.apply_gradients(zip( derivitivesGen, generate.trainable_variables))\n",
        "  detectiveOptimizer.apply_gradients(zip( derivitivesdet, verdict.trainable_variables))"
      ],
      "execution_count": 0,
      "outputs": []
    },
    {
      "cell_type": "code",
      "metadata": {
        "id": "1KNPBe8ingL7",
        "colab_type": "code",
        "colab": {}
      },
      "source": [
        "def train(data, epoch):\n",
        "  for ep in range(epoch):\n",
        "    start = time.time()\n",
        "    for imgB in data:\n",
        "      stepS(imgB)\n",
        "    \n",
        "    display.clear_output(wait = True)\n",
        "    generateImages(generate, ep + 1, seed)\n",
        "    if (ep + 1) % 20 ==0:\n",
        "      pointS.save(file_prefix = checkMerge)\n",
        "      print('epoch {} id {} sec'. format( ep + 1,time.time()-start))\n",
        "    display.clear_output(wait= True)\n",
        "    generateImages(generate, ep, seed)"
      ],
      "execution_count": 0,
      "outputs": []
    },
    {
      "cell_type": "code",
      "metadata": {
        "id": "OjJoO-WK0YVw",
        "colab_type": "code",
        "colab": {}
      },
      "source": [
        "def generateImages(mod, epoch, t_input):\n",
        "  evaluator = mod(t_input, training = False)\n",
        "  pic = plt.figure(figsize=(4,4))\n",
        "  for i in range (evaluator.shape[0]):\n",
        "    plt.subplot(4,4, i + 1)\n",
        "    plt.imshow(evaluator[i, :,:,0] * 127.5 + 127.5, cmap = 'gray')\n",
        "  plt.savefig(\"image{:04d}.png\".format(epoch))\n",
        "    "
      ],
      "execution_count": 0,
      "outputs": []
    },
    {
      "cell_type": "code",
      "metadata": {
        "id": "qJ_zL07C0Yad",
        "colab_type": "code",
        "colab": {}
      },
      "source": [
        "train(Shuffle_train_set, EPOCHS)"
      ],
      "execution_count": 0,
      "outputs": []
    },
    {
      "cell_type": "code",
      "metadata": {
        "id": "PtToVsjQ0YRx",
        "colab_type": "code",
        "colab": {}
      },
      "source": [
        "checkpoint.restore(tf.train.latest_checkpoint(checkDir))"
      ],
      "execution_count": 0,
      "outputs": []
    },
    {
      "cell_type": "code",
      "metadata": {
        "id": "h6H_XWPL5NsD",
        "colab_type": "code",
        "colab": {}
      },
      "source": [
        "def Final_img(num):\n",
        "  return PIL.image.open(\"image{:04d}.png\". num)\n",
        "Final_img(EPOCH)\n",
        "Final_img(EPOCH - 1)"
      ],
      "execution_count": 0,
      "outputs": []
    }
  ]
}